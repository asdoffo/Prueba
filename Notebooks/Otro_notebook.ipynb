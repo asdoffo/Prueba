{
 "cells": [
  {
   "cell_type": "markdown",
   "metadata": {},
   "source": [
    "### Python\n",
    "\n",
    "Empezamos a aprender Python. Vimos que Python es un lenguaje de programación moderno, de propósito general, orientado a objetos y de alto nivel.\n",
    "\n",
    "**Vimos también:**\n",
    " * Sintaxis general \n",
    " * Comentarios (#)\n",
    " * Variables\n",
    "   * Tipos de variables numericas (enteros, decimales)\n",
    "   * Variables que almacenan texto (character strings)\n",
    "     * Indexación (str.[posicion])\n",
    "   * Variables que almacenan valores lógicos (booleanos, Verdadero o Falso)\n",
    " * Operadores \n",
    "   * de asignación (=) de contenido a una variable\n",
    "   * numericos (suma, resta, multiplicación, etc.)\n",
    "    * dan resultados numericos\n",
    "   * que operan sobre variables de texto (concatenación, repetición)\n",
    "    * dan como resultado otras cadenas de texto\n",
    "   * de comparación (mayor, menor, igual)\n",
    "    * dan como resultado valores lógicos (Verdadero o Falso)\n",
    " * Funciones\n",
    "   * `print()` -- imprime valores en pantalla\n",
    "   * `help()`  -- documentacion sobre funciones, metodos, etc. \n",
    "   * `len()`   -- nos devuelve la longitud (length) de una cadena de caracteres\n",
    "   * `type()`  -- nos devuelve el tipo de una variable (int, str, float, bool)\n",
    "   * `abs()`   -- nos devuelve el valor *absoluto* de un número\n",
    "   * `round()` -- nos devuelve el valor *redondeado* de un número\n",
    "   * `str()`   -- convierte el tipo de una variable (a un string/cadena)\n",
    "   * `int()`   -- convierte el tipo de una variable (a un entero)\n",
    "   * `float()` -- convierte el tipo de una variable (a un numero con decimales)\n",
    "   * `bool()`  -- convierte el tipo de una variable (a una variable lógica)\n",
    " * Métodos\n",
    "   * Varios que actuan sobre cadenas de caracteres\n",
    "     * se escribe `var.method()` -- en general\n",
    "       * `var.isdigit()`\n",
    "       * `var.toupper()`\n",
    "       * `var.find(\"caracter\")`\n",
    "       * etc. \n",
    " * f-strings"
   ]
  }
 ],
 "metadata": {
  "language_info": {
   "name": "python"
  }
 },
 "nbformat": 4,
 "nbformat_minor": 2
}
